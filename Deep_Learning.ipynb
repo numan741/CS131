{
  "nbformat": 4,
  "nbformat_minor": 0,
  "metadata": {
    "colab": {
      "name": "Deep Learning.ipynb",
      "provenance": [],
      "collapsed_sections": [],
      "include_colab_link": true
    },
    "kernelspec": {
      "name": "python3",
      "display_name": "Python 3"
    },
    "accelerator": "GPU"
  },
  "cells": [
    {
      "cell_type": "markdown",
      "metadata": {
        "id": "view-in-github",
        "colab_type": "text"
      },
      "source": [
        "<a href=\"https://colab.research.google.com/github/numan741/CS131/blob/master/Deep_Learning.ipynb\" target=\"_parent\"><img src=\"https://colab.research.google.com/assets/colab-badge.svg\" alt=\"Open In Colab\"/></a>"
      ]
    },
    {
      "cell_type": "markdown",
      "metadata": {
        "id": "3Z4P4Sx6fcA4",
        "colab_type": "text"
      },
      "source": [
        "# Deep Learning Demo\n",
        "In this demo you can learn how to use deep neural netowrks to classify images\n",
        "## Installing Requirements"
      ]
    },
    {
      "cell_type": "code",
      "metadata": {
        "id": "CY4tNVi0OPAJ",
        "colab_type": "code",
        "colab": {
          "base_uri": "https://localhost:8080/",
          "height": 105
        },
        "outputId": "123003e6-bdb2-4015-e8d3-33589449ddc8"
      },
      "source": [
        "!pip install torch torchvision"
      ],
      "execution_count": 1,
      "outputs": [
        {
          "output_type": "stream",
          "text": [
            "Requirement already satisfied: torch in /usr/local/lib/python3.6/dist-packages (1.5.0+cu101)\n",
            "Requirement already satisfied: torchvision in /usr/local/lib/python3.6/dist-packages (0.6.0+cu101)\n",
            "Requirement already satisfied: future in /usr/local/lib/python3.6/dist-packages (from torch) (0.16.0)\n",
            "Requirement already satisfied: numpy in /usr/local/lib/python3.6/dist-packages (from torch) (1.18.4)\n",
            "Requirement already satisfied: pillow>=4.1.1 in /usr/local/lib/python3.6/dist-packages (from torchvision) (7.0.0)\n"
          ],
          "name": "stdout"
        }
      ]
    },
    {
      "cell_type": "markdown",
      "metadata": {
        "id": "tmKpGnX4qmhw",
        "colab_type": "text"
      },
      "source": [
        "## Creating a Neural network model\n",
        "### Define Convolutional block"
      ]
    },
    {
      "cell_type": "code",
      "metadata": {
        "id": "rIMX7T6iuKEk",
        "colab_type": "code",
        "colab": {
          "base_uri": "https://localhost:8080/",
          "height": 318
        },
        "outputId": "4d7d272c-78bf-4d24-9ffc-31b816c4cf56"
      },
      "source": [
        "!nvidia-smi\n"
      ],
      "execution_count": 2,
      "outputs": [
        {
          "output_type": "stream",
          "text": [
            "Mon May 11 14:41:12 2020       \n",
            "+-----------------------------------------------------------------------------+\n",
            "| NVIDIA-SMI 440.82       Driver Version: 418.67       CUDA Version: 10.1     |\n",
            "|-------------------------------+----------------------+----------------------+\n",
            "| GPU  Name        Persistence-M| Bus-Id        Disp.A | Volatile Uncorr. ECC |\n",
            "| Fan  Temp  Perf  Pwr:Usage/Cap|         Memory-Usage | GPU-Util  Compute M. |\n",
            "|===============================+======================+======================|\n",
            "|   0  Tesla P100-PCIE...  Off  | 00000000:00:04.0 Off |                    0 |\n",
            "| N/A   34C    P0    27W / 250W |      0MiB / 16280MiB |      0%      Default |\n",
            "+-------------------------------+----------------------+----------------------+\n",
            "                                                                               \n",
            "+-----------------------------------------------------------------------------+\n",
            "| Processes:                                                       GPU Memory |\n",
            "|  GPU       PID   Type   Process name                             Usage      |\n",
            "|=============================================================================|\n",
            "|  No running processes found                                                 |\n",
            "+-----------------------------------------------------------------------------+\n"
          ],
          "name": "stdout"
        }
      ]
    },
    {
      "cell_type": "code",
      "metadata": {
        "id": "tZgVwVxiqvAI",
        "colab_type": "code",
        "colab": {}
      },
      "source": [
        "import torch\n",
        "import torch.nn as nn\n",
        "\n",
        "# Convolutional module (Conv+ReLU+BatchNorm)\n",
        "class Conv(nn.Module):\n",
        "    # Constructor gets in and output channels and stride\n",
        "    def __init__(self,in_channels,channels,size=3,stride=1):\n",
        "      super().__init__()\n",
        "      self.conv=nn.Conv2d(in_channels,channels,kernel_size=size,stride=stride,padding=size//2,bias=False)\n",
        "      self.bn=nn.BatchNorm2d(channels)\n",
        "    # Overwrite forward\n",
        "    def forward(self,x):\n",
        "      return self.bn(torch.relu(self.conv(x)))"
      ],
      "execution_count": 0,
      "outputs": []
    },
    {
      "cell_type": "markdown",
      "metadata": {
        "id": "NMz0b5m_rNsm",
        "colab_type": "text"
      },
      "source": [
        "### Create neural network"
      ]
    },
    {
      "cell_type": "code",
      "metadata": {
        "id": "usIMgRj5rQR6",
        "colab_type": "code",
        "colab": {}
      },
      "source": [
        "class ConvNet(nn.Module):\n",
        "    \n",
        "    # Constructor gets channel number of the image and the first filte\n",
        "    def __init__(self,base_channels=16,in_channels=3,num_classes=10):\n",
        "      super().__init__()\n",
        "\n",
        "\n",
        "      self.c11=Conv(in_channels,base_channels)\n",
        "      self.c12=Conv(base_channels,base_channels)\n",
        "      self.d1=Conv(base_channels,base_channels*2,stride=2)\n",
        "\n",
        "        # Repeat this 4 times\n",
        "      self.c21=Conv(base_channels*2,base_channels*2)\n",
        "      self.c22=Conv(base_channels*2,base_channels*2)\n",
        "      self.d2=Conv(base_channels*2,base_channels*4,stride=2)\n",
        "\n",
        "        # Repeat this 4 times\n",
        "      self.c31=Conv(base_channels*4,base_channels*4)\n",
        "      self.c32=Conv(base_channels*4,base_channels*4)\n",
        "      self.d3=Conv(base_channels*4,base_channels*8,stride=2)\n",
        "\n",
        "        # Repeat this 4 times\n",
        "      self.c41=Conv(base_channels*8,base_channels*8)\n",
        "      self.c42=Conv(base_channels*8,base_channels*8)\n",
        "      self.d4=Conv(base_channels*8,base_channels*16,stride=2)\n",
        "\n",
        "        # Repeat this 4 times\n",
        "      self.c51=Conv(base_channels*16,base_channels*16)\n",
        "      self.c52=Conv(base_channels*16,base_channels*16)\n",
        "      self.d5=Conv(base_channels*16,base_channels*32,stride=2)\n",
        "\n",
        "        # Input image is 32x32 -> after 5 downscaling the activation map is 1x1\n",
        "        \n",
        "        # Classifier is a normal 1x1 convolution that produces num_classes class scores\n",
        "        # This layer does not have BatchNorm of ReLU\n",
        "      self.classifier = nn.Conv2d(base_channels*32,num_classes,1)\n",
        "\n",
        "    def forward(self,x):\n",
        "        # Class all the layers\n",
        "        x=self.d1(  self.c12( self.c11(x) ) )\n",
        "        x=self.d2(  self.c22( self.c21(x) ) )\n",
        "        x=self.d3(  self.c32( self.c31(x) ) )\n",
        "        x=self.d4(  self.c42( self.c41(x) ) )\n",
        "        x=self.d5(  self.c52( self.c51(x) ) )\n",
        "        # Squeeze removes dimensions that have only 1 element\n",
        "        # Output of the conv layer is (batch_size x num_classes x 1 x 1)\n",
        "        # After squeeze is becomes (batch_size x num_classes)\n",
        "        return torch.squeeze(self.classifier(x))"
      ],
      "execution_count": 0,
      "outputs": []
    },
    {
      "cell_type": "markdown",
      "metadata": {
        "id": "tR7Bgu1dsh7E",
        "colab_type": "text"
      },
      "source": [
        "## Setup Learning\n",
        "### Check GPU Availability"
      ]
    },
    {
      "cell_type": "code",
      "metadata": {
        "id": "M-pkDDdsst12",
        "colab_type": "code",
        "colab": {
          "base_uri": "https://localhost:8080/",
          "height": 34
        },
        "outputId": "0e8f3c41-1447-4da9-9384-5e9d1edc9379"
      },
      "source": [
        "haveCuda = torch.cuda.is_available()\n",
        "print(haveCuda)"
      ],
      "execution_count": 5,
      "outputs": [
        {
          "output_type": "stream",
          "text": [
            "True\n"
          ],
          "name": "stdout"
        }
      ]
    },
    {
      "cell_type": "markdown",
      "metadata": {
        "id": "dba1bJu1s5kn",
        "colab_type": "text"
      },
      "source": [
        "### Data Augmentation"
      ]
    },
    {
      "cell_type": "code",
      "metadata": {
        "id": "SNu9i9_Vs8Jt",
        "colab_type": "code",
        "colab": {}
      },
      "source": [
        "from torchvision import transforms\n",
        "\n",
        "# Necessary transformations: conversion to PyTorch Tensor and normalization\n",
        "# Normalization is performed with channels-wise means and variances computed on ImageNet\n",
        "transform_val = transforms.Compose([\n",
        "    transforms.ToTensor(),\n",
        "    transforms.Normalize((0.49139968, 0.48215827, 0.44653124),\n",
        "                         (0.24703233, 0.24348505, 0.26158768))\n",
        "])\n",
        "\n",
        "# Train database transform includes data augmentation\n",
        "transform = transforms.Compose([\n",
        "    # Random 32x32 crops (with 4-wide zero padding - this is needed because the \n",
        "    # input is 32x32 so we can't crop a 32x32 region out of it without padding)\n",
        "    # Flips horizontally with p=0.5\n",
        "    # Random perturbance of brightness, contrast and color\n",
        "    transforms.RandomCrop(32,padding=4),\n",
        "    transforms.RandomHorizontalFlip(),\n",
        "    transforms.ColorJitter(brightness=0.3,contrast=0.3,saturation=0.3,hue=0.2),\n",
        "    transforms.ToTensor(),\n",
        "    transforms.Normalize((0.49139968, 0.48215827, 0.44653124),\n",
        "                         (0.24703233, 0.24348505, 0.26158768))\n",
        "])"
      ],
      "execution_count": 0,
      "outputs": []
    },
    {
      "cell_type": "markdown",
      "metadata": {
        "id": "aJTy9SputIRa",
        "colab_type": "text"
      },
      "source": [
        "### Datasets"
      ]
    },
    {
      "cell_type": "code",
      "metadata": {
        "id": "ihWaGVQ_tJzv",
        "colab_type": "code",
        "colab": {
          "base_uri": "https://localhost:8080/",
          "height": 52
        },
        "outputId": "29452257-0d29-4ff0-e67a-c15e6ebad52d"
      },
      "source": [
        "import torchvision\n",
        "\n",
        "# Trainsets automatically download the dataset if not present\n",
        "trainSet=torchvision.datasets.CIFAR10(root=\"./data\",download=True,train=True,transform=transform)\n",
        "testSet=torchvision.datasets.CIFAR10(root=\"./data\",download=True,train=False,transform=transform_val)"
      ],
      "execution_count": 7,
      "outputs": [
        {
          "output_type": "stream",
          "text": [
            "Files already downloaded and verified\n",
            "Files already downloaded and verified\n"
          ],
          "name": "stdout"
        }
      ]
    },
    {
      "cell_type": "markdown",
      "metadata": {
        "id": "mDVbsgJdtWaB",
        "colab_type": "text"
      },
      "source": [
        "### Dataloaders"
      ]
    },
    {
      "cell_type": "code",
      "metadata": {
        "id": "TENUBRgjtYHS",
        "colab_type": "code",
        "colab": {}
      },
      "source": [
        "# Dataloaders are responsible for giving random (if shuffle is true) minibatches\n",
        "trainLoader=torch.utils.data.DataLoader(trainSet,batch_size=128,shuffle=True)\n",
        "testLoader=torch.utils.data.DataLoader(testSet,batch_size=128,shuffle=False)"
      ],
      "execution_count": 0,
      "outputs": []
    },
    {
      "cell_type": "markdown",
      "metadata": {
        "id": "dtm_dt9stiRH",
        "colab_type": "text"
      },
      "source": [
        "### Create Network"
      ]
    },
    {
      "cell_type": "code",
      "metadata": {
        "id": "PWih_K8etkFX",
        "colab_type": "code",
        "colab": {}
      },
      "source": [
        "# Instantiate network and convert it to CUDA\n",
        "def createNet():\n",
        "  net=ConvNet()\n",
        "  if(haveCuda):\n",
        "    net=net.cuda()\n",
        "  return net"
      ],
      "execution_count": 0,
      "outputs": []
    },
    {
      "cell_type": "markdown",
      "metadata": {
        "id": "oYGtGSFEts0P",
        "colab_type": "text"
      },
      "source": [
        "### Create Loss"
      ]
    },
    {
      "cell_type": "code",
      "metadata": {
        "id": "uA-0-OfatuVC",
        "colab_type": "code",
        "colab": {}
      },
      "source": [
        "# We use cros entropy, since CIFAR10 is a classification set\n",
        "def createLoss():\n",
        "  return nn.CrossEntropyLoss()"
      ],
      "execution_count": 0,
      "outputs": []
    },
    {
      "cell_type": "markdown",
      "metadata": {
        "id": "TAjRulJftv71",
        "colab_type": "text"
      },
      "source": [
        "### Create optimizer"
      ]
    },
    {
      "cell_type": "code",
      "metadata": {
        "id": "J1fXbFE2tzBg",
        "colab_type": "code",
        "colab": {}
      },
      "source": [
        "from torch import optim\n",
        "\n",
        "# Stochastic Gradient Descent (SGD) optimizer with Nesterov momentum and 0.1 learning rate\n",
        "# Weight decay is the relative weight of the L2 regularization term\n",
        "def createOptimizer():\n",
        "  return optim.SGD(net.parameters(),lr=1e-1,momentum=0.9,nesterov=True,weight_decay=1e-4)"
      ],
      "execution_count": 0,
      "outputs": []
    },
    {
      "cell_type": "markdown",
      "metadata": {
        "id": "RtfncjnFt5KJ",
        "colab_type": "text"
      },
      "source": [
        "### Create Learning Rate Scheduler"
      ]
    },
    {
      "cell_type": "code",
      "metadata": {
        "id": "r8bD4aHJt9Gc",
        "colab_type": "code",
        "colab": {}
      },
      "source": [
        "# Run for 50 epochs - 1 epoch means the networks sees every training image once\n",
        "numEpoch = 25\n",
        "\n",
        "# Cosine annealing learning rate scheduler - in 50 epochs the lr will become 0.01\n",
        "def createScheduler():\n",
        "  return optim.lr_scheduler.CosineAnnealingLR(optimizer,numEpoch,eta_min=1e-2)"
      ],
      "execution_count": 0,
      "outputs": []
    },
    {
      "cell_type": "markdown",
      "metadata": {
        "id": "22Poq4wouJp7",
        "colab_type": "text"
      },
      "source": [
        "## Epoch Functions\n",
        "### Progress bar"
      ]
    },
    {
      "cell_type": "code",
      "metadata": {
        "id": "8DsSjcaTukCC",
        "colab_type": "code",
        "colab": {}
      },
      "source": [
        "from IPython.display import HTML, display\n",
        "\n",
        "def progress(value, max=100):\n",
        "    return HTML(\"\"\"\n",
        "        <progress\n",
        "            value='{value}'\n",
        "            max='{max}',\n",
        "            style='width: 100%'\n",
        "        >\n",
        "            {value}\n",
        "        </progress>\n",
        "    \"\"\".format(value=value, max=max))"
      ],
      "execution_count": 0,
      "outputs": []
    },
    {
      "cell_type": "markdown",
      "metadata": {
        "id": "I9oKNc4JukLT",
        "colab_type": "text"
      },
      "source": [
        "### Train"
      ]
    },
    {
      "cell_type": "code",
      "metadata": {
        "id": "EGwmgbUpuQXf",
        "colab_type": "code",
        "colab": {}
      },
      "source": [
        "# Function for training a single epch\n",
        "def train(epoch):\n",
        "\n",
        "    # variables for loss\n",
        "    running_loss = 0.0\n",
        "    correct = 0.0\n",
        "    total = 0\n",
        "\n",
        "    # set the network to train (for batchnorm and dropout)\n",
        "    net.train()\n",
        "    # Create progress bar\n",
        "    bar = display(progress(0, len(trainLoader)), display_id=True)\n",
        "\n",
        "    # data will contain one minibatch of images and correcponding labels\n",
        "    # When the iteration is finished we have seen every training image once\n",
        "    for i, data in enumerate(trainLoader, 0):\n",
        "        # get the inputs\n",
        "        images,labels = data\n",
        "        \n",
        "        # Convert to cuda\n",
        "        if haveCuda:\n",
        "          images,labels = images.cuda(),labels.cuda()\n",
        "\n",
        "        # Clear any previous gradients\n",
        "        optimizer.zero_grad()\n",
        "\n",
        "        # Forward\n",
        "        outputs=net(images)\n",
        "\n",
        "        # Loss\n",
        "        loss=criterion(outputs,labels)\n",
        "\n",
        "        # Backpropagation\n",
        "        loss.backward()\n",
        "\n",
        "        # Gradient method\n",
        "        optimizer.step()\n",
        "\n",
        "        # Do not include these steps in the computational graph\n",
        "        with torch.no_grad():\n",
        "            # Accumulate loss\n",
        "            running_loss += loss.item()\n",
        "\n",
        "            # Get indices of the largest goodness values\n",
        "            _,predicted=torch.max(outputs,1)\n",
        "\n",
        "            # Count how many of the predictions equal the labels\n",
        "            correct+=(predicted==labels).sum().item()\n",
        "\n",
        "            # Accumulate number of total images seen\n",
        "            total+=labels.shape[0]\n",
        "\n",
        "        # Progress bar\n",
        "        bar.update(progress(i+1, len(trainLoader)))\n",
        "\n",
        "    # return loss and accuracy\n",
        "    tr_loss = running_loss / i\n",
        "    tr_corr = correct / total * 100\n",
        "    print(\"Train epoch %d loss: %.3f correct: %.2f\" % (epoch + 1, running_loss / i, tr_corr))\n",
        "    return tr_loss,tr_corr"
      ],
      "execution_count": 0,
      "outputs": []
    },
    {
      "cell_type": "markdown",
      "metadata": {
        "id": "Ne92UroivFGo",
        "colab_type": "text"
      },
      "source": [
        "### Validation"
      ]
    },
    {
      "cell_type": "code",
      "metadata": {
        "id": "e5mrlwmhvGcF",
        "colab_type": "code",
        "colab": {}
      },
      "source": [
        "# Function for validating a single epch\n",
        "def val(epoch):\n",
        "\n",
        "    # variables for loss\n",
        "    running_loss = 0.0\n",
        "    correct = 0.0\n",
        "    total = 0\n",
        "\n",
        "    conf =torch.zeros((10,10))\n",
        "    # set the network to eval  (for batchnorm and dropout)\n",
        "    net.eval()\n",
        "\n",
        "    # Create progress bar\n",
        "    bar = display(progress(0, len(testLoader)), display_id=True)\n",
        "\n",
        "    for i, data in enumerate(testLoader, 0):\n",
        "        # get the inputs\n",
        "        inputs, labels = data\n",
        "\n",
        "        # Convert to cuda\n",
        "        if haveCuda:\n",
        "            inputs, labels = inputs.cuda(), labels.cuda()\n",
        "\n",
        "        # Do not include these steps in the computational graph\n",
        "        with torch.no_grad():\n",
        "          outputs=net(inputs)\n",
        "          # Loss\n",
        "          loss=criterion(outputs,labels)\n",
        "          # Compute statistics, just like before\n",
        "          # Accumulate loss\n",
        "          running_loss += loss.item()\n",
        "          # Get indices of the largest goodness values\n",
        "          _,predicted=torch.max(outputs,1)\n",
        "          # Count how many of the predictions equal the labels\n",
        "          correct+=(predicted==labels).sum().item()\n",
        "          # Accumulate number of total images seen\n",
        "          total+=labels.shape[0]\n",
        "          for p,l in zip(predicted,labels):\n",
        "            conf[p,l]+=1\n",
        "\n",
        "        bar.update(progress(i+1, len(testLoader)))\n",
        "\n",
        "    # return loss and accuracy\n",
        "    val_loss = running_loss / i\n",
        "    val_corr = correct / total * 100\n",
        "    print(\"Test epoch %d loss: %.3f correct: %.2f\" % (epoch + 1, running_loss / i, val_corr))\n",
        "    return val_loss,val_corr,conf"
      ],
      "execution_count": 0,
      "outputs": []
    },
    {
      "cell_type": "markdown",
      "metadata": {
        "id": "TyOMdVD6vs7D",
        "colab_type": "text"
      },
      "source": [
        "## Main Loop"
      ]
    },
    {
      "cell_type": "code",
      "metadata": {
        "id": "hGXuD1tTvveX",
        "colab_type": "code",
        "colab": {
          "base_uri": "https://localhost:8080/",
          "height": 668
        },
        "outputId": "d25c8002-17c5-4065-f1c1-321526466821"
      },
      "source": [
        "# Containers for losses and accuracies for every epoch\n",
        "train_accs = []\n",
        "train_losses = []\n",
        "val_accs = []\n",
        "val_losses = []\n",
        "\n",
        "# Best validation accuracy\n",
        "best_acc = 0\n",
        "\n",
        "# Set pseudo-random generator seeds to make multiple runs comparable\n",
        "torch.manual_seed(42)\n",
        "if haveCuda:\n",
        "    torch.cuda.manual_seed(42)\n",
        "    torch.backends.cudnn.deterministic = True\n",
        "    torch.backends.cudnn.benchmark = False\n",
        "\n",
        "# Create net, criterion, optimizer and scheduler\n",
        "# This needs to be done after setting the random seed, \n",
        "# so that the random initialization would be the same\n",
        "net=createNet()\n",
        "criterion=createLoss()\n",
        "optimizer=createOptimizer()\n",
        "scheduler=createScheduler()\n",
        "# For numEpoch epochs\n",
        "for epoch in range(numEpoch):\n",
        "  \n",
        "    # Train\n",
        "    \n",
        "    loss,acc = train(epoch)\n",
        "    train_losses.append(loss)\n",
        "    train_accs.append(acc)\n",
        "    # Validate\n",
        "    loss,acc,conf = val(epoch)\n",
        "    val_accs.append(acc)\n",
        "    val_losses.append(loss)\n",
        "\n",
        "    # The with the LR scheduler\n",
        "    scheduler.step()\n",
        "\n",
        "    # If the current model is better, than the previous best, save it\n",
        "    if acc> best_acc:\n",
        "      print(\"Curent Best Model,Saving\")\n",
        "      print(conf)\n",
        "      best_acc=acc\n",
        "      torch.save(net.state_dict(),\"model.pth\")\n",
        "\n",
        "\n",
        "    "
      ],
      "execution_count": 27,
      "outputs": [
        {
          "output_type": "display_data",
          "data": {
            "text/html": [
              "\n",
              "        <progress\n",
              "            value='391'\n",
              "            max='391',\n",
              "            style='width: 100%'\n",
              "        >\n",
              "            391\n",
              "        </progress>\n",
              "    "
            ],
            "text/plain": [
              "<IPython.core.display.HTML object>"
            ]
          },
          "metadata": {
            "tags": []
          }
        },
        {
          "output_type": "stream",
          "text": [
            "Train epoch 15 loss: 0.754 correct: 74.00\n"
          ],
          "name": "stdout"
        },
        {
          "output_type": "display_data",
          "data": {
            "text/html": [
              "\n",
              "        <progress\n",
              "            value='79'\n",
              "            max='79',\n",
              "            style='width: 100%'\n",
              "        >\n",
              "            79\n",
              "        </progress>\n",
              "    "
            ],
            "text/plain": [
              "<IPython.core.display.HTML object>"
            ]
          },
          "metadata": {
            "tags": []
          }
        },
        {
          "output_type": "stream",
          "text": [
            "Test epoch 15 loss: 0.796 correct: 72.65\n",
            "Curent Best Model,Saving\n",
            "tensor([[834.,  25.,  52.,  37.,  21.,  10.,   4.,  21., 110.,  60.],\n",
            "        [  9., 914.,   1.,   3.,   2.,   0.,   1.,   0.,  20., 103.],\n",
            "        [ 71.,   8., 764., 155., 160., 101., 202.,  40.,  25.,  12.],\n",
            "        [  6.,   4.,  11., 332.,  17.,  39.,  17.,   8.,   6.,   8.],\n",
            "        [  7.,   3.,  53.,  73., 594.,  32.,  47.,  20.,   1.,   3.],\n",
            "        [  2.,   8.,  44., 240.,  29., 720.,  35.,  41.,   3.,   2.],\n",
            "        [  1.,   5.,  10.,  38.,  12.,  10., 666.,   1.,   0.,   6.],\n",
            "        [ 19.,   5.,  61., 109., 162.,  88.,  26., 863.,   6.,  26.],\n",
            "        [ 44.,   9.,   4.,  10.,   2.,   0.,   2.,   1., 820.,  22.],\n",
            "        [  7.,  19.,   0.,   3.,   1.,   0.,   0.,   5.,   9., 758.]])\n"
          ],
          "name": "stdout"
        },
        {
          "output_type": "display_data",
          "data": {
            "text/html": [
              "\n",
              "        <progress\n",
              "            value='7'\n",
              "            max='391',\n",
              "            style='width: 100%'\n",
              "        >\n",
              "            7\n",
              "        </progress>\n",
              "    "
            ],
            "text/plain": [
              "<IPython.core.display.HTML object>"
            ]
          },
          "metadata": {
            "tags": []
          }
        },
        {
          "output_type": "error",
          "ename": "KeyboardInterrupt",
          "evalue": "ignored",
          "traceback": [
            "\u001b[0;31m---------------------------------------------------------------------------\u001b[0m",
            "\u001b[0;31mKeyboardInterrupt\u001b[0m                         Traceback (most recent call last)",
            "\u001b[0;32m<ipython-input-27-834a7cbd910d>\u001b[0m in \u001b[0;36m<module>\u001b[0;34m()\u001b[0m\n\u001b[1;32m     26\u001b[0m     \u001b[0;31m# Train\u001b[0m\u001b[0;34m\u001b[0m\u001b[0;34m\u001b[0m\u001b[0;34m\u001b[0m\u001b[0m\n\u001b[1;32m     27\u001b[0m \u001b[0;34m\u001b[0m\u001b[0m\n\u001b[0;32m---> 28\u001b[0;31m     \u001b[0mloss\u001b[0m\u001b[0;34m,\u001b[0m\u001b[0macc\u001b[0m \u001b[0;34m=\u001b[0m \u001b[0mtrain\u001b[0m\u001b[0;34m(\u001b[0m\u001b[0mepoch\u001b[0m\u001b[0;34m)\u001b[0m\u001b[0;34m\u001b[0m\u001b[0;34m\u001b[0m\u001b[0m\n\u001b[0m\u001b[1;32m     29\u001b[0m     \u001b[0mtrain_losses\u001b[0m\u001b[0;34m.\u001b[0m\u001b[0mappend\u001b[0m\u001b[0;34m(\u001b[0m\u001b[0mloss\u001b[0m\u001b[0;34m)\u001b[0m\u001b[0;34m\u001b[0m\u001b[0;34m\u001b[0m\u001b[0m\n\u001b[1;32m     30\u001b[0m     \u001b[0mtrain_accs\u001b[0m\u001b[0;34m.\u001b[0m\u001b[0mappend\u001b[0m\u001b[0;34m(\u001b[0m\u001b[0macc\u001b[0m\u001b[0;34m)\u001b[0m\u001b[0;34m\u001b[0m\u001b[0;34m\u001b[0m\u001b[0m\n",
            "\u001b[0;32m<ipython-input-19-304d94668a3e>\u001b[0m in \u001b[0;36mtrain\u001b[0;34m(epoch)\u001b[0m\n\u001b[1;32m     25\u001b[0m \u001b[0;34m\u001b[0m\u001b[0m\n\u001b[1;32m     26\u001b[0m         \u001b[0;31m# Forward\u001b[0m\u001b[0;34m\u001b[0m\u001b[0;34m\u001b[0m\u001b[0;34m\u001b[0m\u001b[0m\n\u001b[0;32m---> 27\u001b[0;31m         \u001b[0moutputs\u001b[0m\u001b[0;34m=\u001b[0m\u001b[0mnet\u001b[0m\u001b[0;34m(\u001b[0m\u001b[0mimages\u001b[0m\u001b[0;34m)\u001b[0m\u001b[0;34m\u001b[0m\u001b[0;34m\u001b[0m\u001b[0m\n\u001b[0m\u001b[1;32m     28\u001b[0m \u001b[0;34m\u001b[0m\u001b[0m\n\u001b[1;32m     29\u001b[0m         \u001b[0;31m# Loss\u001b[0m\u001b[0;34m\u001b[0m\u001b[0;34m\u001b[0m\u001b[0;34m\u001b[0m\u001b[0m\n",
            "\u001b[0;32m/usr/local/lib/python3.6/dist-packages/torch/nn/modules/module.py\u001b[0m in \u001b[0;36m__call__\u001b[0;34m(self, *input, **kwargs)\u001b[0m\n\u001b[1;32m    548\u001b[0m             \u001b[0mresult\u001b[0m \u001b[0;34m=\u001b[0m \u001b[0mself\u001b[0m\u001b[0;34m.\u001b[0m\u001b[0m_slow_forward\u001b[0m\u001b[0;34m(\u001b[0m\u001b[0;34m*\u001b[0m\u001b[0minput\u001b[0m\u001b[0;34m,\u001b[0m \u001b[0;34m**\u001b[0m\u001b[0mkwargs\u001b[0m\u001b[0;34m)\u001b[0m\u001b[0;34m\u001b[0m\u001b[0;34m\u001b[0m\u001b[0m\n\u001b[1;32m    549\u001b[0m         \u001b[0;32melse\u001b[0m\u001b[0;34m:\u001b[0m\u001b[0;34m\u001b[0m\u001b[0;34m\u001b[0m\u001b[0m\n\u001b[0;32m--> 550\u001b[0;31m             \u001b[0mresult\u001b[0m \u001b[0;34m=\u001b[0m \u001b[0mself\u001b[0m\u001b[0;34m.\u001b[0m\u001b[0mforward\u001b[0m\u001b[0;34m(\u001b[0m\u001b[0;34m*\u001b[0m\u001b[0minput\u001b[0m\u001b[0;34m,\u001b[0m \u001b[0;34m**\u001b[0m\u001b[0mkwargs\u001b[0m\u001b[0;34m)\u001b[0m\u001b[0;34m\u001b[0m\u001b[0;34m\u001b[0m\u001b[0m\n\u001b[0m\u001b[1;32m    551\u001b[0m         \u001b[0;32mfor\u001b[0m \u001b[0mhook\u001b[0m \u001b[0;32min\u001b[0m \u001b[0mself\u001b[0m\u001b[0;34m.\u001b[0m\u001b[0m_forward_hooks\u001b[0m\u001b[0;34m.\u001b[0m\u001b[0mvalues\u001b[0m\u001b[0;34m(\u001b[0m\u001b[0;34m)\u001b[0m\u001b[0;34m:\u001b[0m\u001b[0;34m\u001b[0m\u001b[0;34m\u001b[0m\u001b[0m\n\u001b[1;32m    552\u001b[0m             \u001b[0mhook_result\u001b[0m \u001b[0;34m=\u001b[0m \u001b[0mhook\u001b[0m\u001b[0;34m(\u001b[0m\u001b[0mself\u001b[0m\u001b[0;34m,\u001b[0m \u001b[0minput\u001b[0m\u001b[0;34m,\u001b[0m \u001b[0mresult\u001b[0m\u001b[0;34m)\u001b[0m\u001b[0;34m\u001b[0m\u001b[0;34m\u001b[0m\u001b[0m\n",
            "\u001b[0;32m<ipython-input-17-e07eea3ed937>\u001b[0m in \u001b[0;36mforward\u001b[0;34m(self, x)\u001b[0m\n\u001b[1;32m     38\u001b[0m     \u001b[0;32mdef\u001b[0m \u001b[0mforward\u001b[0m\u001b[0;34m(\u001b[0m\u001b[0mself\u001b[0m\u001b[0;34m,\u001b[0m\u001b[0mx\u001b[0m\u001b[0;34m)\u001b[0m\u001b[0;34m:\u001b[0m\u001b[0;34m\u001b[0m\u001b[0;34m\u001b[0m\u001b[0m\n\u001b[1;32m     39\u001b[0m         \u001b[0;31m# Class all the layers\u001b[0m\u001b[0;34m\u001b[0m\u001b[0;34m\u001b[0m\u001b[0;34m\u001b[0m\u001b[0m\n\u001b[0;32m---> 40\u001b[0;31m         \u001b[0mx\u001b[0m\u001b[0;34m=\u001b[0m\u001b[0mself\u001b[0m\u001b[0;34m.\u001b[0m\u001b[0md1\u001b[0m\u001b[0;34m(\u001b[0m  \u001b[0mself\u001b[0m\u001b[0;34m.\u001b[0m\u001b[0mc12\u001b[0m\u001b[0;34m(\u001b[0m \u001b[0mself\u001b[0m\u001b[0;34m.\u001b[0m\u001b[0mc11\u001b[0m\u001b[0;34m(\u001b[0m\u001b[0mx\u001b[0m\u001b[0;34m)\u001b[0m \u001b[0;34m)\u001b[0m \u001b[0;34m)\u001b[0m\u001b[0;34m\u001b[0m\u001b[0;34m\u001b[0m\u001b[0m\n\u001b[0m\u001b[1;32m     41\u001b[0m         \u001b[0mx\u001b[0m\u001b[0;34m=\u001b[0m\u001b[0mself\u001b[0m\u001b[0;34m.\u001b[0m\u001b[0md2\u001b[0m\u001b[0;34m(\u001b[0m  \u001b[0mself\u001b[0m\u001b[0;34m.\u001b[0m\u001b[0mc22\u001b[0m\u001b[0;34m(\u001b[0m \u001b[0mself\u001b[0m\u001b[0;34m.\u001b[0m\u001b[0mc21\u001b[0m\u001b[0;34m(\u001b[0m\u001b[0mx\u001b[0m\u001b[0;34m)\u001b[0m \u001b[0;34m)\u001b[0m \u001b[0;34m)\u001b[0m\u001b[0;34m\u001b[0m\u001b[0;34m\u001b[0m\u001b[0m\n\u001b[1;32m     42\u001b[0m         \u001b[0mx\u001b[0m\u001b[0;34m=\u001b[0m\u001b[0mself\u001b[0m\u001b[0;34m.\u001b[0m\u001b[0md3\u001b[0m\u001b[0;34m(\u001b[0m  \u001b[0mself\u001b[0m\u001b[0;34m.\u001b[0m\u001b[0mc32\u001b[0m\u001b[0;34m(\u001b[0m \u001b[0mself\u001b[0m\u001b[0;34m.\u001b[0m\u001b[0mc31\u001b[0m\u001b[0;34m(\u001b[0m\u001b[0mx\u001b[0m\u001b[0;34m)\u001b[0m \u001b[0;34m)\u001b[0m \u001b[0;34m)\u001b[0m\u001b[0;34m\u001b[0m\u001b[0;34m\u001b[0m\u001b[0m\n",
            "\u001b[0;32m/usr/local/lib/python3.6/dist-packages/torch/nn/modules/module.py\u001b[0m in \u001b[0;36m__call__\u001b[0;34m(self, *input, **kwargs)\u001b[0m\n\u001b[1;32m    548\u001b[0m             \u001b[0mresult\u001b[0m \u001b[0;34m=\u001b[0m \u001b[0mself\u001b[0m\u001b[0;34m.\u001b[0m\u001b[0m_slow_forward\u001b[0m\u001b[0;34m(\u001b[0m\u001b[0;34m*\u001b[0m\u001b[0minput\u001b[0m\u001b[0;34m,\u001b[0m \u001b[0;34m**\u001b[0m\u001b[0mkwargs\u001b[0m\u001b[0;34m)\u001b[0m\u001b[0;34m\u001b[0m\u001b[0;34m\u001b[0m\u001b[0m\n\u001b[1;32m    549\u001b[0m         \u001b[0;32melse\u001b[0m\u001b[0;34m:\u001b[0m\u001b[0;34m\u001b[0m\u001b[0;34m\u001b[0m\u001b[0m\n\u001b[0;32m--> 550\u001b[0;31m             \u001b[0mresult\u001b[0m \u001b[0;34m=\u001b[0m \u001b[0mself\u001b[0m\u001b[0;34m.\u001b[0m\u001b[0mforward\u001b[0m\u001b[0;34m(\u001b[0m\u001b[0;34m*\u001b[0m\u001b[0minput\u001b[0m\u001b[0;34m,\u001b[0m \u001b[0;34m**\u001b[0m\u001b[0mkwargs\u001b[0m\u001b[0;34m)\u001b[0m\u001b[0;34m\u001b[0m\u001b[0;34m\u001b[0m\u001b[0m\n\u001b[0m\u001b[1;32m    551\u001b[0m         \u001b[0;32mfor\u001b[0m \u001b[0mhook\u001b[0m \u001b[0;32min\u001b[0m \u001b[0mself\u001b[0m\u001b[0;34m.\u001b[0m\u001b[0m_forward_hooks\u001b[0m\u001b[0;34m.\u001b[0m\u001b[0mvalues\u001b[0m\u001b[0;34m(\u001b[0m\u001b[0;34m)\u001b[0m\u001b[0;34m:\u001b[0m\u001b[0;34m\u001b[0m\u001b[0;34m\u001b[0m\u001b[0m\n\u001b[1;32m    552\u001b[0m             \u001b[0mhook_result\u001b[0m \u001b[0;34m=\u001b[0m \u001b[0mhook\u001b[0m\u001b[0;34m(\u001b[0m\u001b[0mself\u001b[0m\u001b[0;34m,\u001b[0m \u001b[0minput\u001b[0m\u001b[0;34m,\u001b[0m \u001b[0mresult\u001b[0m\u001b[0;34m)\u001b[0m\u001b[0;34m\u001b[0m\u001b[0;34m\u001b[0m\u001b[0m\n",
            "\u001b[0;32m<ipython-input-3-0bed8080600e>\u001b[0m in \u001b[0;36mforward\u001b[0;34m(self, x)\u001b[0m\n\u001b[1;32m     11\u001b[0m     \u001b[0;31m# Overwrite forward\u001b[0m\u001b[0;34m\u001b[0m\u001b[0;34m\u001b[0m\u001b[0;34m\u001b[0m\u001b[0m\n\u001b[1;32m     12\u001b[0m     \u001b[0;32mdef\u001b[0m \u001b[0mforward\u001b[0m\u001b[0;34m(\u001b[0m\u001b[0mself\u001b[0m\u001b[0;34m,\u001b[0m\u001b[0mx\u001b[0m\u001b[0;34m)\u001b[0m\u001b[0;34m:\u001b[0m\u001b[0;34m\u001b[0m\u001b[0;34m\u001b[0m\u001b[0m\n\u001b[0;32m---> 13\u001b[0;31m       \u001b[0;32mreturn\u001b[0m \u001b[0mself\u001b[0m\u001b[0;34m.\u001b[0m\u001b[0mbn\u001b[0m\u001b[0;34m(\u001b[0m\u001b[0mtorch\u001b[0m\u001b[0;34m.\u001b[0m\u001b[0mrelu\u001b[0m\u001b[0;34m(\u001b[0m\u001b[0mself\u001b[0m\u001b[0;34m.\u001b[0m\u001b[0mconv\u001b[0m\u001b[0;34m(\u001b[0m\u001b[0mx\u001b[0m\u001b[0;34m)\u001b[0m\u001b[0;34m)\u001b[0m\u001b[0;34m)\u001b[0m\u001b[0;34m\u001b[0m\u001b[0;34m\u001b[0m\u001b[0m\n\u001b[0m",
            "\u001b[0;32m/usr/local/lib/python3.6/dist-packages/torch/nn/modules/module.py\u001b[0m in \u001b[0;36m__call__\u001b[0;34m(self, *input, **kwargs)\u001b[0m\n\u001b[1;32m    548\u001b[0m             \u001b[0mresult\u001b[0m \u001b[0;34m=\u001b[0m \u001b[0mself\u001b[0m\u001b[0;34m.\u001b[0m\u001b[0m_slow_forward\u001b[0m\u001b[0;34m(\u001b[0m\u001b[0;34m*\u001b[0m\u001b[0minput\u001b[0m\u001b[0;34m,\u001b[0m \u001b[0;34m**\u001b[0m\u001b[0mkwargs\u001b[0m\u001b[0;34m)\u001b[0m\u001b[0;34m\u001b[0m\u001b[0;34m\u001b[0m\u001b[0m\n\u001b[1;32m    549\u001b[0m         \u001b[0;32melse\u001b[0m\u001b[0;34m:\u001b[0m\u001b[0;34m\u001b[0m\u001b[0;34m\u001b[0m\u001b[0m\n\u001b[0;32m--> 550\u001b[0;31m             \u001b[0mresult\u001b[0m \u001b[0;34m=\u001b[0m \u001b[0mself\u001b[0m\u001b[0;34m.\u001b[0m\u001b[0mforward\u001b[0m\u001b[0;34m(\u001b[0m\u001b[0;34m*\u001b[0m\u001b[0minput\u001b[0m\u001b[0;34m,\u001b[0m \u001b[0;34m**\u001b[0m\u001b[0mkwargs\u001b[0m\u001b[0;34m)\u001b[0m\u001b[0;34m\u001b[0m\u001b[0;34m\u001b[0m\u001b[0m\n\u001b[0m\u001b[1;32m    551\u001b[0m         \u001b[0;32mfor\u001b[0m \u001b[0mhook\u001b[0m \u001b[0;32min\u001b[0m \u001b[0mself\u001b[0m\u001b[0;34m.\u001b[0m\u001b[0m_forward_hooks\u001b[0m\u001b[0;34m.\u001b[0m\u001b[0mvalues\u001b[0m\u001b[0;34m(\u001b[0m\u001b[0;34m)\u001b[0m\u001b[0;34m:\u001b[0m\u001b[0;34m\u001b[0m\u001b[0;34m\u001b[0m\u001b[0m\n\u001b[1;32m    552\u001b[0m             \u001b[0mhook_result\u001b[0m \u001b[0;34m=\u001b[0m \u001b[0mhook\u001b[0m\u001b[0;34m(\u001b[0m\u001b[0mself\u001b[0m\u001b[0;34m,\u001b[0m \u001b[0minput\u001b[0m\u001b[0;34m,\u001b[0m \u001b[0mresult\u001b[0m\u001b[0;34m)\u001b[0m\u001b[0;34m\u001b[0m\u001b[0;34m\u001b[0m\u001b[0m\n",
            "\u001b[0;32m/usr/local/lib/python3.6/dist-packages/torch/nn/modules/conv.py\u001b[0m in \u001b[0;36mforward\u001b[0;34m(self, input)\u001b[0m\n\u001b[1;32m    347\u001b[0m \u001b[0;34m\u001b[0m\u001b[0m\n\u001b[1;32m    348\u001b[0m     \u001b[0;32mdef\u001b[0m \u001b[0mforward\u001b[0m\u001b[0;34m(\u001b[0m\u001b[0mself\u001b[0m\u001b[0;34m,\u001b[0m \u001b[0minput\u001b[0m\u001b[0;34m)\u001b[0m\u001b[0;34m:\u001b[0m\u001b[0;34m\u001b[0m\u001b[0;34m\u001b[0m\u001b[0m\n\u001b[0;32m--> 349\u001b[0;31m         \u001b[0;32mreturn\u001b[0m \u001b[0mself\u001b[0m\u001b[0;34m.\u001b[0m\u001b[0m_conv_forward\u001b[0m\u001b[0;34m(\u001b[0m\u001b[0minput\u001b[0m\u001b[0;34m,\u001b[0m \u001b[0mself\u001b[0m\u001b[0;34m.\u001b[0m\u001b[0mweight\u001b[0m\u001b[0;34m)\u001b[0m\u001b[0;34m\u001b[0m\u001b[0;34m\u001b[0m\u001b[0m\n\u001b[0m\u001b[1;32m    350\u001b[0m \u001b[0;34m\u001b[0m\u001b[0m\n\u001b[1;32m    351\u001b[0m \u001b[0;32mclass\u001b[0m \u001b[0mConv3d\u001b[0m\u001b[0;34m(\u001b[0m\u001b[0m_ConvNd\u001b[0m\u001b[0;34m)\u001b[0m\u001b[0;34m:\u001b[0m\u001b[0;34m\u001b[0m\u001b[0;34m\u001b[0m\u001b[0m\n",
            "\u001b[0;32m/usr/local/lib/python3.6/dist-packages/torch/nn/modules/conv.py\u001b[0m in \u001b[0;36m_conv_forward\u001b[0;34m(self, input, weight)\u001b[0m\n\u001b[1;32m    344\u001b[0m                             _pair(0), self.dilation, self.groups)\n\u001b[1;32m    345\u001b[0m         return F.conv2d(input, weight, self.bias, self.stride,\n\u001b[0;32m--> 346\u001b[0;31m                         self.padding, self.dilation, self.groups)\n\u001b[0m\u001b[1;32m    347\u001b[0m \u001b[0;34m\u001b[0m\u001b[0m\n\u001b[1;32m    348\u001b[0m     \u001b[0;32mdef\u001b[0m \u001b[0mforward\u001b[0m\u001b[0;34m(\u001b[0m\u001b[0mself\u001b[0m\u001b[0;34m,\u001b[0m \u001b[0minput\u001b[0m\u001b[0;34m)\u001b[0m\u001b[0;34m:\u001b[0m\u001b[0;34m\u001b[0m\u001b[0;34m\u001b[0m\u001b[0m\n",
            "\u001b[0;31mKeyboardInterrupt\u001b[0m: "
          ]
        }
      ]
    },
    {
      "cell_type": "markdown",
      "metadata": {
        "id": "k_Rn8t63mMyE",
        "colab_type": "text"
      },
      "source": [
        "### Plot graphs"
      ]
    },
    {
      "cell_type": "code",
      "metadata": {
        "id": "5fD5twERTLHj",
        "colab_type": "code",
        "colab": {
          "base_uri": "https://localhost:8080/",
          "height": 592
        },
        "outputId": "e5d8a1d8-e485-4ebf-d514-c4255c577849"
      },
      "source": [
        "import numpy as np\n",
        "import matplotlib.pyplot as plt\n",
        "%matplotlib inline\n",
        "\n",
        "# X coordinate for plotting\n",
        "x = np.arange(15)\n",
        "\n",
        "plt.figure(figsize=(20,10))\n",
        "\n",
        "# Train is red, validation is blue\n",
        "plt.subplot(1,2,1)\n",
        "plt.plot(x,train_accs,'r')\n",
        "plt.plot(x,val_accs,'b')\n",
        "\n",
        "plt.subplot(1,2,2)\n",
        "plt.plot(x,train_losses,'r')\n",
        "plt.plot(x,val_losses,'b')\n",
        "\n",
        "plt.show()"
      ],
      "execution_count": 28,
      "outputs": [
        {
          "output_type": "display_data",
          "data": {
            "image/png": "[encoded data removed]",
            "text/plain": [
              "<Figure size 1440x720 with 2 Axes>"
            ]
          },
          "metadata": {
            "tags": [],
            "needs_background": "light"
          }
        }
      ]
    },
    {
      "cell_type": "markdown",
      "metadata": {
        "id": "nRyOcLuRvnKi",
        "colab_type": "text"
      },
      "source": [
        "### Visualize results"
      ]
    },
    {
      "cell_type": "code",
      "metadata": {
        "id": "shz50Jk3vqZ5",
        "colab_type": "code",
        "colab": {
          "base_uri": "https://localhost:8080/",
          "height": 316
        },
        "outputId": "d7d6577a-4fa1-4a26-8524-8cedbcb13bf3"
      },
      "source": [
        "# Get a minibatch from the test loader and convert to cuda\n",
        "inputs, labels = next(iter(testLoader))\n",
        "if haveCuda:\n",
        "    inputs, labels = inputs.cuda(), labels.cuda()\n",
        "\n",
        "# forward\n",
        "outputs = net(inputs)\n",
        "\n",
        "# Get predicted class indices\n",
        "_, predicted = torch.max(outputs, 1)\n",
        "\n",
        "# Values used for normalization\n",
        "mean = torch.Tensor((0.49139968, 0.48215827, 0.44653124)).unsqueeze(1).unsqueeze(1)\n",
        "std = torch.Tensor((0.24703233, 0.24348505, 0.26158768)).unsqueeze(1).unsqueeze(1)\n",
        "\n",
        "# Class names\n",
        "classes = ('plane', 'car', 'bird', 'cat', 'deer', 'dog', 'frog', 'horse', 'ship', 'truck')\n",
        "\n",
        "# List of subplots - we'll use 16 images\n",
        "f, axarr = plt.subplots(2, 8,figsize=(20, 5))\n",
        "\n",
        "# For every image-prediction pair\n",
        "for i,(img,pred) in enumerate(zip(inputs,predicted)):\n",
        "    # undo the normalization\n",
        "    img_rescaled = img.cpu() * std + mean\n",
        "    \n",
        "    # Get predicted class name\n",
        "    name = classes[pred.cpu().item()]\n",
        "    \n",
        "    # Permutation needed because in PyTorch the channel dimension comes first,\n",
        "    # but in numpy and opencv it comes last (3x32x32) -> (32x32x3)\n",
        "    axarr[i//8,i%8].imshow(img_rescaled.permute(1,2,0))\n",
        "    \n",
        "    # Set title to class name\n",
        "    axarr[i//8,i%8].set_title(name)\n",
        "    \n",
        "    # Hide grid lines\n",
        "    axarr[i//8,i%8].grid(False)\n",
        "    \n",
        "    # Hide axes ticks\n",
        "    axarr[i//8,i%8].set_xticks([])\n",
        "    axarr[i//8,i%8].set_yticks([])\n",
        "    \n",
        "    # Only do the first 16\n",
        "    if i == 15:\n",
        "        break"
      ],
      "execution_count": 29,
      "outputs": [
        {
          "output_type": "display_data",
          "data": {
            "image/png": "[encoded data removed]",
            "text/plain": [
              "<Figure size 1440x360 with 16 Axes>"
            ]
          },
          "metadata": {
            "tags": []
          }
        }
      ]
    }
  ]
}